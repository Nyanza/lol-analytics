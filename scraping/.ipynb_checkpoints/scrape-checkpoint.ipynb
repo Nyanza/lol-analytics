{
 "cells": [
  {
   "cell_type": "code",
   "execution_count": 82,
   "metadata": {},
   "outputs": [],
   "source": [
    "import pandas as pd\n",
    "import requests\n",
    "from bs4 import BeautifulSoup\n",
    "from selenium import webdriver\n",
    "import json\n",
    "\n",
    "from selenium.webdriver.support.ui import Select, WebDriverWait\n",
    "img_path = 'https://ddragon.leagueoflegends.com/cdn/7.19.1/img/champion/'\n",
    "def get_champion_data(url):\n",
    "    driver = webdriver.Chrome(r'C:\\Users\\Sibtain\\Downloads\\chromedriver_win32\\chromedriver.exe')\n",
    "    driver.get(url)\n",
    "    champ_url = driver.current_url.split('championstats')[0]\n",
    "    name = find_between(champ_url, \"https://lolcounter.gg/\", \"/\")\n",
    "    folder = 'champstats/'+name\n",
    "    print(\"starting \", name)\n",
    "    select = driver.find_elements_by_tag_name(\"fieldset\")  #get the list of leagues & the list of lanes played\n",
    "    league_options = select[0].find_elements_by_tag_name(\"li\") #get all list elements inside leagues (platplus, plat, etc.)\n",
    "    lane_options = select[1].find_elements_by_tag_name(\"li\") #get all list elements inside lanes (mid, top, etc.)\n",
    "\n",
    "    optionsList = {'lane': [], 'league': []}\n",
    "\n",
    "    for option in league_options: #iterate over the options, place attribute of onclick in list\n",
    "        optionsList['league'].append(option.get_attribute(\"onclick\"))\n",
    "\n",
    "    for option in lane_options: #iterate over the options, place attribute of onclick in list\n",
    "        optionsList['lane'].append(option.get_attribute(\"onclick\"))\n",
    "\n",
    "    championJson = {}\n",
    "    for optionHref in optionsList['league']:\n",
    "        optionValue = 'platplus'\n",
    "        if \"championstats.php?\" not in optionHref:\n",
    "            optionValue = find_between(optionHref, \"championstats\", \".php?\")\n",
    "            link = champ_url + find_between(optionHref, \"location.href='\", \"';\")\n",
    "            print(link)\n",
    "            driver.get(link)\n",
    "        for laneHref in optionsList['lane']:\n",
    "            lane = find_between(laneHref, \"Lane=\", \"';\")\n",
    "            link = champ_url + find_between(optionHref, \"location.href='\", \"?\") + find_between(laneHref, \"hp\", \"';\")\n",
    "            print(link)\n",
    "            driver.get(link)\n",
    "            soup = BeautifulSoup(driver.page_source,'lxml')\n",
    "\n",
    "            print(\"starting loop on option {} in lane {}\".format(optionValue, lane))\n",
    "            #build order\n",
    "            build_order = driver.find_element_by_class_name(\"build-wrapper\")\n",
    "            build_order_imgs = build_order.find_elements_by_tag_name(\"img\")\n",
    "            build = []\n",
    "            for img in build_order_imgs:\n",
    "                #get url and id\n",
    "                x = {}\n",
    "                x[\"src\"] = img.get_attribute(\"src\")\n",
    "                x[\"id\"] = find_between(x[\"src\"], \"/item/\", \".png\")\n",
    "                build.append(x)\n",
    "            \n",
    "            skill_order = driver.find_element_by_class_name(\"Skill-Order2\")    #get highest win % skill order\n",
    "            skill_order_table = skill_order.find_element_by_class_name(\"skill-order\")\n",
    "            skills = skill_order_table.find_elements_by_class_name(\"skill\")\n",
    "            counter = -1\n",
    "            skill_images = []\n",
    "            skill_order = [0] * 18\n",
    "            for skill in skills:\n",
    "                if counter == -1:\n",
    "                    counter += 1\n",
    "                    continue\n",
    "                # skill has img and skill selections\n",
    "                img = skill.find_element_by_tag_name(\"img\") #deal with img first\n",
    "                img_src = img.get_attribute(\"src\")\n",
    "                skill_images.append(img_src)\n",
    "                skills_selection = skill.find_element_by_class_name(\"skill-selections\")\n",
    "                skills_selection_list = skills_selection.find_elements_by_tag_name(\"div\")\n",
    "                skill_counter = 0\n",
    "                current_skill = 'qwer'[counter]\n",
    "                for skill_selection in skills_selection_list:\n",
    "                    text = skill_selection.text.replace(\" \", \"\")\n",
    "                    if text:\n",
    "                        skill_order[skill_counter] = current_skill\n",
    "                    skill_counter += 1\n",
    "                counter += 1\n",
    "            if skill_order == [0] * 18:\n",
    "                continue\n",
    "            if optionValue not in championJson:\n",
    "                championJson[optionValue] = {}\n",
    "            if lane not in championJson[optionValue]:\n",
    "                championJson[optionValue][lane] = {}\n",
    "            if \"skillImages\" not in championJson:\n",
    "                championJson[\"skillImages\"] = skill_images\n",
    "            championJson[optionValue][lane][\"skill_order\"] = skill_order\n",
    "\n",
    "            table = soup.find_all('table')[0] # get stats table\n",
    "            df = pd.read_html(str(table))[0] # add that to df\n",
    "            stats_list = json.loads(df.to_json(orient='records'))\n",
    "            stats_dict = {}\n",
    "            for stat in stats_list:\n",
    "                type_stat = stat[\"Type\"]\n",
    "                ave = stat[\"Average\"]\n",
    "                stat.clear()\n",
    "                stats_dict[type_stat] = ave\n",
    "            championJson[optionValue][lane][\"stats\"] = stats_dict\n",
    "            championJson[optionValue][lane][\"build\"] = build\n",
    "        #get counters / lane\n",
    "        link = champ_url\n",
    "        if optionValue != 'platplus':\n",
    "            link = champ_url + 'counterstats' + optionValue + '.php'\n",
    "        #print(link)\n",
    "        print(\"getting counter info per league per lane\")\n",
    "        driver.get(link)\n",
    "        lanes = driver.find_elements_by_class_name(\"champbox1-subwarpper\")\n",
    "        for lane_elem in lanes:\n",
    "            lane_with_name = lane_elem.find_element_by_tag_name(\"h1\").text\n",
    "            if lane_with_name is not None:\n",
    "                lane = lane_with_name.lower().split(\" \")\n",
    "                #print(lane)\n",
    "                lane = lane[len(lane) - 1]\n",
    "                champs = {'weak': [], 'strong': []}\n",
    "                champ_sections = [lane_elem.find_element_by_class_name(\"champ-blockwrapper1\"), lane_elem.find_element_by_class_name(\"champ-blockwrapper2\")]\n",
    "                for section in champ_sections:\n",
    "                    champ_blocks = section.find_elements_by_class_name(\"champ-block\")\n",
    "                    weak_or_strong = section.find_element_by_tag_name(\"div\").text\n",
    "                    if 'weak' in weak_or_strong.lower():\n",
    "                        key = 'weak'\n",
    "                    else:\n",
    "                        key = 'strong'\n",
    "                    for i in range(0, min(5, len(champ_blocks))):\n",
    "                        champ = champ_blocks[i]\n",
    "                        x = {}\n",
    "                        x['name'] = champ.find_element_by_class_name(\"name\").text\n",
    "                        x['win_rate'] = champ.find_element_by_class_name(\"per-bar\").text\n",
    "                        style = champ.find_element_by_class_name(\"left\").get_attribute('style')\n",
    "                        x['img'] = img_path + find_between(style,\"champion/\", \".png\") + \".png\"\n",
    "                        champs[key].append(x)  \n",
    "                print(champs)\n",
    "                if lane == \"mid\":\n",
    "                    lane = \"MIDDLE\"\n",
    "                if lane.upper() in championJson[optionValue]:\n",
    "                    championJson[optionValue][lane.upper()][\"counters\"] = champs\n",
    "            \n",
    "    driver.close()\n",
    "    filename = folder + '.json'\n",
    "    with open(filename, 'w') as f:\n",
    "         json.dump(championJson, f)\n",
    "    print(\"success! \", name)"
   ]
  },
  {
   "cell_type": "code",
   "execution_count": 2,
   "metadata": {},
   "outputs": [
    {
     "data": {
      "text/plain": [
       "'?Lane=TOP'"
      ]
     },
     "execution_count": 2,
     "metadata": {},
     "output_type": "execute_result"
    }
   ],
   "source": [
    "def find_between( s, first, last ):\n",
    "    try:\n",
    "        start = s.index( first ) + len( first )\n",
    "        end = s.index( last, start )\n",
    "        return s[start:end]\n",
    "    except ValueError:\n",
    "        return \"\""
   ]
  },
  {
   "cell_type": "code",
   "execution_count": null,
   "metadata": {
    "scrolled": true
   },
   "outputs": [
    {
     "name": "stdout",
     "output_type": "stream",
     "text": [
      "0 https://lolcounter.gg/gangplank/championstats.php?Lane=TOP\n",
      "starting  gangplank\n",
      "https://lolcounter.gg/gangplank/championstats.php?Lane=TOP\n",
      "starting loop on option platplus in lane TOP\n",
      "https://lolcounter.gg/gangplank/championstats.php?Lane=MIDDLE\n",
      "starting loop on option platplus in lane MIDDLE\n",
      "https://lolcounter.gg/gangplank/\n",
      "getting counter info per league per lane\n",
      "['gangplank', 'top']\n",
      "{'weak': [{'name': 'Quinn', 'win_rate': '42.27%', 'img': 'https://ddragon.leagueoflegends.com/cdn/7.19.1/img/champion/Quinn.png'}, {'name': 'Kayle', 'win_rate': '42.44%', 'img': 'https://ddragon.leagueoflegends.com/cdn/7.19.1/img/champion/Kayle.png'}, {'name': 'Wukong', 'win_rate': '43.42%', 'img': 'https://ddragon.leagueoflegends.com/cdn/7.19.1/img/champion/MonkeyKing.png'}, {'name': 'Rengar', 'win_rate': '43.61%', 'img': 'https://ddragon.leagueoflegends.com/cdn/7.19.1/img/champion/Rengar.png'}, {'name': 'Talon', 'win_rate': '44.91%', 'img': 'https://ddragon.leagueoflegends.com/cdn/7.19.1/img/champion/Talon.png'}], 'strong': [{'name': 'Tahm Kench', 'win_rate': '63.10%', 'img': 'https://ddragon.leagueoflegends.com/cdn/7.19.1/img/champion/TahmKench.png'}, {'name': 'Galio', 'win_rate': '59.96%', 'img': 'https://ddragon.leagueoflegends.com/cdn/7.19.1/img/champion/Galio.png'}, {'name': 'Poppy', 'win_rate': '58.70%', 'img': 'https://ddragon.leagueoflegends.com/cdn/7.19.1/img/champion/Poppy.png'}, {'name': 'Ryze', 'win_rate': '58.39%', 'img': 'https://ddragon.leagueoflegends.com/cdn/7.19.1/img/champion/Ryze.png'}, {'name': 'Lissandra', 'win_rate': '57.43%', 'img': 'https://ddragon.leagueoflegends.com/cdn/7.19.1/img/champion/Lissandra.png'}]}\n",
      "['gangplank', 'mid']\n",
      "{'weak': [{'name': 'Jayce', 'win_rate': '39.81%', 'img': 'https://ddragon.leagueoflegends.com/cdn/7.19.1/img/champion/Jayce.png'}, {'name': 'Fizz', 'win_rate': '41.00%', 'img': 'https://ddragon.leagueoflegends.com/cdn/7.19.1/img/champion/Fizz.png'}, {'name': 'Karthus', 'win_rate': '42.11%', 'img': 'https://ddragon.leagueoflegends.com/cdn/7.19.1/img/champion/Karthus.png'}, {'name': 'Anivia', 'win_rate': '42.34%', 'img': 'https://ddragon.leagueoflegends.com/cdn/7.19.1/img/champion/Anivia.png'}, {'name': 'Vladimir', 'win_rate': '42.77%', 'img': 'https://ddragon.leagueoflegends.com/cdn/7.19.1/img/champion/Vladimir.png'}], 'strong': [{'name': 'Azir', 'win_rate': '60.77%', 'img': 'https://ddragon.leagueoflegends.com/cdn/7.19.1/img/champion/Azir.png'}, {'name': 'Taliyah', 'win_rate': '54.50%', 'img': 'https://ddragon.leagueoflegends.com/cdn/7.19.1/img/champion/Taliyah.png'}, {'name': 'Yasuo', 'win_rate': '53.96%', 'img': 'https://ddragon.leagueoflegends.com/cdn/7.19.1/img/champion/Yasuo.png'}, {'name': 'Ekko', 'win_rate': '52.16%', 'img': 'https://ddragon.leagueoflegends.com/cdn/7.19.1/img/champion/Ekko.png'}, {'name': 'Leblanc', 'win_rate': '51.24%', 'img': 'https://ddragon.leagueoflegends.com/cdn/7.19.1/img/champion/Leblanc.png'}]}\n",
      "https://lolcounter.gg/gangplank/championstatsplat.php?Lane=TOP\n",
      "https://lolcounter.gg/gangplank/championstatsplat.php?Lane=TOP\n",
      "starting loop on option plat in lane TOP\n",
      "https://lolcounter.gg/gangplank/championstatsplat.php?Lane=MIDDLE\n",
      "starting loop on option plat in lane MIDDLE\n",
      "https://lolcounter.gg/gangplank/counterstatsplat.php\n",
      "getting counter info per league per lane\n",
      "['gangplank', 'top']\n"
     ]
    }
   ],
   "source": [
    "def get_champ_links():\n",
    "    links = []\n",
    "    url = 'https://lolcounter.gg/index.php'\n",
    "    driver = webdriver.Chrome(r'C:\\Users\\Sibtain\\Downloads\\chromedriver_win32\\chromedriver.exe')\n",
    "    driver.get(url)\n",
    "    host = \"https://lolcounter.gg/\"\n",
    "    champ_stats = '/championstats.php?Lane=TOP'\n",
    "    champion_table = driver.find_element_by_id(\"champion-list\")\n",
    "    elements_list = champion_table.find_elements_by_class_name(\"inlinechamps\")\n",
    "    for champ in elements_list:\n",
    "        name = champ.get_attribute(\"data-champion-name\").replace(\" \", \"%20\")\n",
    "        link = host + name + champ_stats\n",
    "        links.append(link)\n",
    "    driver.close()\n",
    "    return links\n",
    "champ_links = get_champ_links()\n",
    "x = 0\n",
    "for link in champ_links[31:]:\n",
    "    print(str(x) + \" \" + link)\n",
    "    x += 1\n",
    "    get_champion_data(link)"
   ]
  },
  {
   "cell_type": "code",
   "execution_count": 66,
   "metadata": {},
   "outputs": [
    {
     "data": {
      "text/plain": [
       "0"
      ]
     },
     "execution_count": 66,
     "metadata": {},
     "output_type": "execute_result"
    }
   ],
   "source": [
    "min(5, len([]))"
   ]
  },
  {
   "cell_type": "code",
   "execution_count": 72,
   "metadata": {},
   "outputs": [
    {
     "data": {
      "text/plain": [
       "'Adc'"
      ]
     },
     "execution_count": 72,
     "metadata": {},
     "output_type": "execute_result"
    }
   ],
   "source": [
    "x = \"Vayne Adc\".split(\" \")\n",
    "x[len(x) - 1]"
   ]
  },
  {
   "cell_type": "code",
   "execution_count": 81,
   "metadata": {},
   "outputs": [
    {
     "name": "stdout",
     "output_type": "stream",
     "text": [
      "asd\n"
     ]
    }
   ],
   "source": [
    "if \"asd\" in {\"asd\":1}:\n",
    "    print(\"asd\")"
   ]
  },
  {
   "cell_type": "code",
   "execution_count": null,
   "metadata": {
    "collapsed": true
   },
   "outputs": [],
   "source": []
  }
 ],
 "metadata": {
  "kernelspec": {
   "display_name": "Python 3",
   "language": "python",
   "name": "python3"
  },
  "language_info": {
   "codemirror_mode": {
    "name": "ipython",
    "version": 3
   },
   "file_extension": ".py",
   "mimetype": "text/x-python",
   "name": "python",
   "nbconvert_exporter": "python",
   "pygments_lexer": "ipython3",
   "version": "3.6.1"
  }
 },
 "nbformat": 4,
 "nbformat_minor": 2
}
