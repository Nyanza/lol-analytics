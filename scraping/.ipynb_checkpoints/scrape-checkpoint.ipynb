{
 "cells": [
  {
   "cell_type": "code",
   "execution_count": 80,
   "metadata": {},
   "outputs": [],
   "source": [
    "import pandas as pd\n",
    "import requests\n",
    "from bs4 import BeautifulSoup\n",
    "from selenium import webdriver\n",
    "import json\n",
    "\n",
    "from selenium.webdriver.support.ui import Select, WebDriverWait\n",
    "\n",
    "def get_champion_data(url):\n",
    "    driver = webdriver.Chrome('/Users/user/Downloads/chromedriver')\n",
    "    driver.get(url)\n",
    "    champ_url = driver.current_url.split('championstats')[0]\n",
    "    name = find_between(champ_url, \"https://lolcounter.gg/\", \"/\")\n",
    "    folder = 'champstats/'+name\n",
    "    print(\"starting \", name)\n",
    "    select = driver.find_elements_by_tag_name(\"fieldset\")  #get the list of leagues & the list of lanes played\n",
    "    league_options = select[0].find_elements_by_tag_name(\"li\") #get all list elements inside leagues (platplus, plat, etc.)\n",
    "    lane_options = select[1].find_elements_by_tag_name(\"li\") #get all list elements inside lanes (mid, top, etc.)\n",
    "\n",
    "    optionsList = {'lane': [], 'league': []}\n",
    "\n",
    "    for option in league_options: #iterate over the options, place attribute of onclick in list\n",
    "        optionsList['league'].append(option.get_attribute(\"onclick\"))\n",
    "\n",
    "    for option in lane_options: #iterate over the options, place attribute of onclick in list\n",
    "        optionsList['lane'].append(option.get_attribute(\"onclick\"))\n",
    "\n",
    "    championJson = {}\n",
    "    for optionHref in optionsList['league']:\n",
    "        optionValue = 'platplus'\n",
    "        if \"championstats.php?\" not in optionHref:\n",
    "            optionValue = find_between(optionHref, \"championstats\", \".php?\")\n",
    "            link = champ_url + find_between(optionHref, \"location.href='\", \"';\")\n",
    "            print(link)\n",
    "            driver.get(link)\n",
    "        for laneHref in optionsList['lane']:\n",
    "            lane = find_between(laneHref, \"Lane=\", \"';\")\n",
    "            link = champ_url + find_between(optionHref, \"location.href='\", \"?\") + find_between(laneHref, \"hp\", \"';\")\n",
    "            print(link)\n",
    "            driver.get(link)\n",
    "            soup = BeautifulSoup(driver.page_source,'lxml')\n",
    "\n",
    "            print(\"starting loop on option {} in lane {}\".format(optionValue, lane))\n",
    "\n",
    "            skill_order = driver.find_element_by_class_name(\"Skill-Order2\")    #get highest win % skill order\n",
    "            skill_order_table = skill_order.find_element_by_class_name(\"skill-order\")\n",
    "            skills = skill_order_table.find_elements_by_class_name(\"skill\")\n",
    "            counter = -1\n",
    "            skill_images = []\n",
    "            skill_order = [0] * 18\n",
    "            for skill in skills:\n",
    "                if counter == -1:\n",
    "                    counter += 1\n",
    "                    continue\n",
    "                # skill has img and skill selections\n",
    "                img = skill.find_element_by_tag_name(\"img\") #deal with img first\n",
    "                img_src = img.get_attribute(\"src\")\n",
    "                skill_images.append(img_src)\n",
    "                skills_selection = skill.find_element_by_class_name(\"skill-selections\")\n",
    "                skills_selection_list = skills_selection.find_elements_by_tag_name(\"div\")\n",
    "                skill_counter = 0\n",
    "                current_skill = 'qwer'[counter]\n",
    "                for skill_selection in skills_selection_list:\n",
    "                    text = skill_selection.text.replace(\" \", \"\")\n",
    "                    if text:\n",
    "                        skill_order[skill_counter] = current_skill\n",
    "                    skill_counter += 1\n",
    "                counter += 1\n",
    "\n",
    "            if skill_order == [0] * 18:\n",
    "                continue\n",
    "            if optionValue not in championJson:\n",
    "                championJson[optionValue] = {}\n",
    "            if lane not in championJson[optionValue]:\n",
    "                championJson[optionValue][lane] = {}\n",
    "            if \"skillImages\" not in championJson:\n",
    "                championJson[\"skillImages\"] = skill_images\n",
    "            championJson[optionValue][lane][\"skill_order\"] = skill_order\n",
    "            #print(skill_images)\n",
    "            #print(skill_order)\n",
    "\n",
    "            table = soup.find_all('table')[0] # get stats table\n",
    "            df = pd.read_html(str(table))[0] # add that to df\n",
    "            stats_list = json.loads(df.to_json(orient='records'))\n",
    "            stats_dict = {}\n",
    "            for stat in stats_list:\n",
    "                type_stat = stat[\"Type\"]\n",
    "                ave = stat[\"Average\"]\n",
    "                stat.clear()\n",
    "                stats_dict[type_stat] = ave\n",
    "            championJson[optionValue][lane][\"stats\"] = stats_dict\n",
    "            print(championJson[optionValue][lane][\"stats\"])\n",
    "            #print(df)\n",
    "    \n",
    "    driver.close()\n",
    "    filename = folder + '.json'\n",
    "    with open(filename, 'w') as f:\n",
    "         json.dump(championJson, f)\n",
    "    print(\"success!\")"
   ]
  },
  {
   "cell_type": "code",
   "execution_count": 23,
   "metadata": {},
   "outputs": [
    {
     "data": {
      "text/plain": [
       "'?Lane=TOP'"
      ]
     },
     "execution_count": 23,
     "metadata": {},
     "output_type": "execute_result"
    }
   ],
   "source": [
    "def find_between( s, first, last ):\n",
    "    try:\n",
    "        start = s.index( first ) + len( first )\n",
    "        end = s.index( last, start )\n",
    "        return s[start:end]\n",
    "    except ValueError:\n",
    "        return \"\"\n",
    "\n",
    "find_between(\"location.href='championstatsplat.php?Lane=TOP';\", \"hp\", \"';\")"
   ]
  },
  {
   "cell_type": "code",
   "execution_count": 81,
   "metadata": {
    "scrolled": true
   },
   "outputs": [
    {
     "name": "stdout",
     "output_type": "stream",
     "text": [
      "https://lolcounter.gg/aatrox/championstats.php?Lane=TOP\n",
      "starting  aatrox\n",
      "https://lolcounter.gg/aatrox/championstats.php?Lane=TOP\n",
      "starting loop on option platplus in lane TOP\n",
      "{'Win Rate': '51.12%', 'Pick Rate': '0.43%', 'Ban Rate': '0.09%', 'Gold Earned': '11505', 'Kills': '5.90', 'Deaths': '5.57', 'Assists': '5.26', 'Damage Dealt': '18617.70', 'Damage Taken': '29140.30', 'Minions Killed': '173'}\n",
      "https://lolcounter.gg/aatrox/championstats.php?Lane=JUNGLE\n",
      "starting loop on option platplus in lane JUNGLE\n",
      "{'Win Rate': '50.79%', 'Pick Rate': '0.15%', 'Ban Rate': '0.09%', 'Gold Earned': '11472', 'Kills': '6.09', 'Deaths': '5.79', 'Assists': '6.63', 'Damage Dealt': '15991.80', 'Damage Taken': '34246.20', 'Minions Killed': '52'}\n",
      "https://lolcounter.gg/aatrox/championstatsplat.php?Lane=TOP\n",
      "https://lolcounter.gg/aatrox/championstatsplat.php?Lane=TOP\n",
      "starting loop on option plat in lane TOP\n",
      "{'Win Rate': '51.99%', 'Pick Rate': '0.45%', 'Ban Rate': '0.09%', 'Gold Earned': '11564', 'Kills': '6.03', 'Deaths': '5.61', 'Assists': '5.30', 'Damage Dealt': '18936.60', 'Damage Taken': '29407.90', 'Minions Killed': '172'}\n",
      "https://lolcounter.gg/aatrox/championstatsplat.php?Lane=JUNGLE\n",
      "starting loop on option plat in lane JUNGLE\n"
     ]
    },
    {
     "ename": "AttributeError",
     "evalue": "'NoneType' object has no attribute 'replace'",
     "output_type": "error",
     "traceback": [
      "\u001b[0;31m---------------------------------------------------------------------------\u001b[0m",
      "\u001b[0;31mAttributeError\u001b[0m                            Traceback (most recent call last)",
      "\u001b[0;32m<ipython-input-81-765b8e90b14d>\u001b[0m in \u001b[0;36m<module>\u001b[0;34m()\u001b[0m\n\u001b[1;32m     17\u001b[0m \u001b[0;32mfor\u001b[0m \u001b[0mlink\u001b[0m \u001b[0;32min\u001b[0m \u001b[0mchamp_links\u001b[0m\u001b[0;34m:\u001b[0m\u001b[0;34m\u001b[0m\u001b[0m\n\u001b[1;32m     18\u001b[0m     \u001b[0mprint\u001b[0m\u001b[0;34m(\u001b[0m\u001b[0mlink\u001b[0m\u001b[0;34m)\u001b[0m\u001b[0;34m\u001b[0m\u001b[0m\n\u001b[0;32m---> 19\u001b[0;31m     \u001b[0mget_champion_data\u001b[0m\u001b[0;34m(\u001b[0m\u001b[0mlink\u001b[0m\u001b[0;34m)\u001b[0m\u001b[0;34m\u001b[0m\u001b[0m\n\u001b[0m",
      "\u001b[0;32m<ipython-input-80-d02a6478ce5f>\u001b[0m in \u001b[0;36mget_champion_data\u001b[0;34m(url)\u001b[0m\n\u001b[1;32m     62\u001b[0m                 \u001b[0mcurrent_skill\u001b[0m \u001b[0;34m=\u001b[0m \u001b[0;34m'qwer'\u001b[0m\u001b[0;34m[\u001b[0m\u001b[0mcounter\u001b[0m\u001b[0;34m]\u001b[0m\u001b[0;34m\u001b[0m\u001b[0m\n\u001b[1;32m     63\u001b[0m                 \u001b[0;32mfor\u001b[0m \u001b[0mskill_selection\u001b[0m \u001b[0;32min\u001b[0m \u001b[0mskills_selection_list\u001b[0m\u001b[0;34m:\u001b[0m\u001b[0;34m\u001b[0m\u001b[0m\n\u001b[0;32m---> 64\u001b[0;31m                     \u001b[0mtext\u001b[0m \u001b[0;34m=\u001b[0m \u001b[0mskill_selection\u001b[0m\u001b[0;34m.\u001b[0m\u001b[0mtext\u001b[0m\u001b[0;34m.\u001b[0m\u001b[0mreplace\u001b[0m\u001b[0;34m(\u001b[0m\u001b[0;34m\" \"\u001b[0m\u001b[0;34m,\u001b[0m \u001b[0;34m\"\"\u001b[0m\u001b[0;34m)\u001b[0m\u001b[0;34m\u001b[0m\u001b[0m\n\u001b[0m\u001b[1;32m     65\u001b[0m                     \u001b[0;32mif\u001b[0m \u001b[0mtext\u001b[0m\u001b[0;34m:\u001b[0m\u001b[0;34m\u001b[0m\u001b[0m\n\u001b[1;32m     66\u001b[0m                         \u001b[0mskill_order\u001b[0m\u001b[0;34m[\u001b[0m\u001b[0mskill_counter\u001b[0m\u001b[0;34m]\u001b[0m \u001b[0;34m=\u001b[0m \u001b[0mcurrent_skill\u001b[0m\u001b[0;34m\u001b[0m\u001b[0m\n",
      "\u001b[0;31mAttributeError\u001b[0m: 'NoneType' object has no attribute 'replace'"
     ]
    }
   ],
   "source": [
    "def get_champ_links():\n",
    "    links = []\n",
    "    url = 'https://lolcounter.gg/index.php'\n",
    "    driver = webdriver.Chrome('/Users/user/Downloads/chromedriver')\n",
    "    driver.get(url)\n",
    "    host = \"https://lolcounter.gg/\"\n",
    "    champ_stats = '/championstats.php?Lane=TOP'\n",
    "    champion_table = driver.find_element_by_id(\"champion-list\")\n",
    "    elements_list = champion_table.find_elements_by_class_name(\"inlinechamps\")\n",
    "    for champ in elements_list:\n",
    "        name = champ.get_attribute(\"data-champion-name\").replace(\" \", \"%20\")\n",
    "        link = host + name + champ_stats\n",
    "        links.append(link)\n",
    "    driver.close()\n",
    "    return links\n",
    "champ_links = get_champ_links()\n",
    "for link in champ_links:\n",
    "    print(link)\n",
    "    get_champion_data(link)"
   ]
  },
  {
   "cell_type": "code",
   "execution_count": null,
   "metadata": {
    "collapsed": true
   },
   "outputs": [],
   "source": []
  }
 ],
 "metadata": {
  "kernelspec": {
   "display_name": "Python 3",
   "language": "python",
   "name": "python3"
  },
  "language_info": {
   "codemirror_mode": {
    "name": "ipython",
    "version": 3
   },
   "file_extension": ".py",
   "mimetype": "text/x-python",
   "name": "python",
   "nbconvert_exporter": "python",
   "pygments_lexer": "ipython3",
   "version": "3.6.1"
  }
 },
 "nbformat": 4,
 "nbformat_minor": 2
}
