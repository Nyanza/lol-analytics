{
 "cells": [
  {
   "cell_type": "code",
   "execution_count": 71,
   "metadata": {},
   "outputs": [],
   "source": [
    "import pandas as pd\n",
    "import requests\n",
    "from bs4 import BeautifulSoup\n",
    "from selenium import webdriver\n",
    "from selenium.common.exceptions import TimeoutException\n",
    "from selenium.webdriver.support.ui import WebDriverWait\n",
    "from selenium.webdriver.support import expected_conditions as EC\n",
    "from selenium.webdriver.common.by import By\n",
    "from selenium.webdriver.common.keys import Keys\n",
    "import json\n",
    "import time\n",
    "\n",
    "def get_summoner_info(name):\n",
    "    url = 'http://matchhistory.na.leagueoflegends.com/en/#page/landing-page'\n",
    "    driver = webdriver.Chrome('/Users/user/Downloads/chromedriver')\n",
    "    driver.get(url)\n",
    "    driver.implicitly_wait(5) \n",
    "    input = driver.find_element_by_tag_name(\"input\")\n",
    "    click = driver.find_element_by_tag_name(\"em\")\n",
    "    input.send_keys(name)\n",
    "    click.click()\n",
    "    timeout = 10\n",
    "    try:\n",
    "        element_present = EC.presence_of_element_located((By.CLASS_NAME, 'binding'))\n",
    "        WebDriverWait(driver, timeout).until(element_present)\n",
    "    except TimeoutException:\n",
    "        print(\"Timed out waiting for page to load\")\n",
    "    time.sleep(1)\n",
    "    soup = BeautifulSoup(driver.page_source, \"lxml\")\n",
    "    games = soup.find_all(\"li\", \"game-summary\")\n",
    "    for game in games:\n",
    "        x = {}\n",
    "        x[\"name\"] = game.find(\"div\", \"name-container\").get_text().strip()\n",
    "        x[\"map-mode\"] = game.find(\"span\", \"map-mode-queue\").get_text().strip()\n",
    "        x[\"item\"] = game.find(\"\", \"inventory \")\n",
    "        #summoner spells\n",
    "        #k/d/a\n",
    "        #gold spent/ earned\n",
    "        #game id\n",
    "        print(x)\n",
    "    driver.close()"
   ]
  },
  {
   "cell_type": "code",
   "execution_count": 72,
   "metadata": {},
   "outputs": [
    {
     "name": "stdout",
     "output_type": "stream",
     "text": [
      "{'name': '   Lux  '}\n",
      "{'name': '   Thresh  '}\n",
      "{'name': '   Lux  '}\n",
      "{'name': '   Morgana  '}\n",
      "{'name': '   Morgana  '}\n",
      "{'name': '   Lux  '}\n",
      "{'name': '   Akali  '}\n",
      "{'name': '   Lux  '}\n",
      "{'name': '   Lux  '}\n",
      "{'name': '   Diana  '}\n",
      "{'name': '   Akali  '}\n",
      "{'name': '   Lux  '}\n",
      "{'name': '   Lux  '}\n",
      "{'name': '   Lux  '}\n",
      "{'name': '   Akali  '}\n"
     ]
    }
   ],
   "source": [
    "get_summoner_info(\"serbaristanselmy\")"
   ]
  },
  {
   "cell_type": "code",
   "execution_count": null,
   "metadata": {
    "collapsed": true
   },
   "outputs": [],
   "source": []
  },
  {
   "cell_type": "code",
   "execution_count": null,
   "metadata": {
    "collapsed": true
   },
   "outputs": [],
   "source": []
  }
 ],
 "metadata": {
  "kernelspec": {
   "display_name": "Python 3",
   "language": "python",
   "name": "python3"
  },
  "language_info": {
   "codemirror_mode": {
    "name": "ipython",
    "version": 3
   },
   "file_extension": ".py",
   "mimetype": "text/x-python",
   "name": "python",
   "nbconvert_exporter": "python",
   "pygments_lexer": "ipython3",
   "version": "3.6.1"
  }
 },
 "nbformat": 4,
 "nbformat_minor": 2
}
